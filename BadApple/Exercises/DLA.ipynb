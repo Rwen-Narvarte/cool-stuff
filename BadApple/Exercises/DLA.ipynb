{
 "cells": [
  {
   "cell_type": "code",
   "execution_count": 17,
   "metadata": {},
   "outputs": [],
   "source": [
    "import numpy as np\n",
    "import matplotlib.pyplot as plt\n",
    "\n",
    "rng = np.random.default_rng()"
   ]
  },
  {
   "cell_type": "code",
   "execution_count": 18,
   "metadata": {},
   "outputs": [
    {
     "data": {
      "text/plain": [
       "<function matplotlib.pyplot.show(close=None, block=None)>"
      ]
     },
     "execution_count": 18,
     "metadata": {},
     "output_type": "execute_result"
    },
    {
     "data": {
      "image/png": "[encoded data removed]",
      "text/plain": [
       "<Figure size 640x480 with 1 Axes>"
      ]
     },
     "metadata": {},
     "output_type": "display_data"
    }
   ],
   "source": [
    "size = 100\n",
    "\n",
    "board = np.zeros((size,size))\n",
    "\n",
    "center = 50\n",
    "board[center][center] = 1\n",
    "\n",
    "plt.imshow(board, interpolation='nearest')\n",
    "plt.show"
   ]
  },
  {
   "cell_type": "code",
   "execution_count": 19,
   "metadata": {},
   "outputs": [],
   "source": [
    "# This function is to check if the neighbor cells are empty\n",
    "# to be used in conjunction with random walk\n",
    "def neighbors(y,x):\n",
    "    fset = [(-1,0),(1,0),(0,-1),(0,1)]\n",
    "    list1 = []\n",
    "    \n",
    "    for (dy,dx) in fset:\n",
    "        i = y + dy\n",
    "        j = x + dx\n",
    "        if (i,j) != (y,x) and 0 <= i <= size-1 and  0 <= j <= size-1:\n",
    "            list1.append([i,j])\n",
    "    \n",
    "    return list1\n"
   ]
  },
  {
   "cell_type": "code",
   "execution_count": 22,
   "metadata": {},
   "outputs": [],
   "source": [
    "# This function is to check whether if the \n",
    "# neighboring cell is part of the aggregate\n",
    "def stopcondition(y,x):\n",
    "    state = False\n",
    "    list1 = [ board[y2][x2] for y2,x2 in neighbors(y,x)]\n",
    "\n",
    "    if 1 in list1: state = True\n",
    "    return state"
   ]
  },
  {
   "cell_type": "code",
   "execution_count": null,
   "metadata": {},
   "outputs": [],
   "source": [
    "def dist(y2,x2,y,x):\n",
    "    d = np.sqrt( (y2-y)**2 + (x2-x)**2 )\n",
    "    return d"
   ]
  },
  {
   "cell_type": "code",
   "execution_count": 9,
   "metadata": {},
   "outputs": [
    {
     "name": "stdout",
     "output_type": "stream",
     "text": [
      "[1, 2, 3]\n"
     ]
    }
   ],
   "source": [
    "for i in range(20):\n",
    "    gate1 = False\n",
    "    while gate1"
   ]
  }
 ],
 "metadata": {
  "kernelspec": {
   "display_name": "Python 3",
   "language": "python",
   "name": "python3"
  },
  "language_info": {
   "codemirror_mode": {
    "name": "ipython",
    "version": 3
   },
   "file_extension": ".py",
   "mimetype": "text/x-python",
   "name": "python",
   "nbconvert_exporter": "python",
   "pygments_lexer": "ipython3",
   "version": "3.12.5"
  }
 },
 "nbformat": 4,
 "nbformat_minor": 2
}
