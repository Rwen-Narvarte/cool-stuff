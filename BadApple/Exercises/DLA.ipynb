{
 "cells": [
  {
   "cell_type": "code",
   "execution_count": 17,
   "metadata": {},
   "outputs": [],
   "source": [
    "import numpy as np\n",
    "import matplotlib.pyplot as plt\n",
    "\n",
    "rng = np.random.default_rng()"
   ]
  },
  {
   "cell_type": "code",
   "execution_count": 18,
   "metadata": {},
   "outputs": [
    {
     "data": {
      "text/plain": [
       "<function matplotlib.pyplot.show(close=None, block=None)>"
      ]
     },
     "execution_count": 18,
     "metadata": {},
     "output_type": "execute_result"
    },
    {
     "data": {
      "image/png": "[encoded data removed]",
      "text/plain": [
       "<Figure size 640x480 with 1 Axes>"
      ]
     },
     "metadata": {},
     "output_type": "display_data"
    }
   ],
   "source": [
    "size = 100\n",
    "\n",
    "board = np.zeros((size,size))\n",
    "\n",
    "center = 50\n",
    "board[center][center] = 1\n",
    "\n",
    "plt.imshow(board, interpolation='nearest')\n",
    "plt.show"
   ]
  },
  {
   "cell_type": "code",
   "execution_count": 19,
   "metadata": {},
   "outputs": [],
   "source": [
    "# This function is to check if the neighbor cells are empty\n",
    "# to be used in conjunction with random walk\n",
    "def neighbors(y,x):\n",
    "    fset = [(-1,0),(1,0),(0,-1),(0,1)]\n",
    "    list1 = []\n",
    "    \n",
    "    for (dy,dx) in fset:\n",
    "        i = y + dy\n",
    "        j = x + dx\n",
    "        if (i,j) != (y,x) and 0 <= i <= size-1 and  0 <= j <= size-1:\n",
    "            list1.append([i,j])\n",
    "    \n",
    "    return list1\n"
   ]
  },
  {
   "cell_type": "code",
   "execution_count": 22,
   "metadata": {},
   "outputs": [],
   "source": [
    "# This function is to check whether if the \n",
    "# neighboring cell is part of the aggregate\n",
    "def stopcondition(y,x):\n",
    "    state = False\n",
    "    list1 = [ board[y2][x2] for y2,x2 in neighbors(y,x)]\n",
    "\n",
    "    if 1 in list1: state = True\n",
    "    return state"
   ]
  },
  {
   "cell_type": "code",
   "execution_count": 31,
   "metadata": {},
   "outputs": [],
   "source": [
    "def dist(y2,x2,y,x):\n",
    "    d = np.sqrt( (y2-y)**2 + (x2-x)**2 )\n",
    "    return d"
   ]
  },
  {
   "cell_type": "code",
   "execution_count": 33,
   "metadata": {},
   "outputs": [
    {
     "name": "stdout",
     "output_type": "stream",
     "text": [
      "[(36, 45), (36, 46), (36, 47), (36, 48), (36, 49), (36, 50), (36, 51), (36, 52), (36, 53), (36, 54), (36, 55), (37, 43), (37, 44), (37, 45), (37, 46), (37, 47), (37, 48), (37, 49), (37, 50), (37, 51), (37, 52), (37, 53), (37, 54), (37, 55), (37, 56), (37, 57), (38, 42), (38, 43), (38, 44), (38, 45), (38, 46), (38, 47), (38, 48), (38, 49), (38, 50), (38, 51), (38, 52), (38, 53), (38, 54), (38, 55), (38, 56), (38, 57), (38, 58), (39, 40), (39, 41), (39, 42), (39, 43), (39, 44), (39, 45), (39, 46), (39, 47), (39, 48), (39, 49), (39, 50), (39, 51), (39, 52), (39, 53), (39, 54), (39, 55), (39, 56), (39, 57), (39, 58), (39, 59), (39, 60), (40, 39), (40, 40), (40, 41), (40, 42), (40, 43), (40, 44), (40, 45), (40, 46), (40, 47), (40, 48), (40, 49), (40, 50), (40, 51), (40, 52), (40, 53), (40, 54), (40, 55), (40, 56), (40, 57), (40, 58), (40, 59), (40, 60), (40, 61), (41, 39), (41, 40), (41, 41), (41, 42), (41, 43), (41, 44), (41, 45), (41, 46), (41, 47), (41, 48), (41, 49), (41, 50), (41, 51), (41, 52), (41, 53), (41, 54), (41, 55), (41, 56), (41, 57), (41, 58), (41, 59), (41, 60), (41, 61), (42, 38), (42, 39), (42, 40), (42, 41), (42, 42), (42, 43), (42, 44), (42, 45), (42, 46), (42, 47), (42, 48), (42, 49), (42, 50), (42, 51), (42, 52), (42, 53), (42, 54), (42, 55), (42, 56), (42, 57), (42, 58), (42, 59), (42, 60), (42, 61), (42, 62), (43, 37), (43, 38), (43, 39), (43, 40), (43, 41), (43, 42), (43, 43), (43, 44), (43, 45), (43, 46), (43, 47), (43, 48), (43, 49), (43, 50), (43, 51), (43, 52), (43, 53), (43, 54), (43, 55), (43, 56), (43, 57), (43, 58), (43, 59), (43, 60), (43, 61), (43, 62), (43, 63), (44, 37), (44, 38), (44, 39), (44, 40), (44, 41), (44, 42), (44, 43), (44, 44), (44, 45), (44, 46), (44, 47), (44, 48), (44, 49), (44, 50), (44, 51), (44, 52), (44, 53), (44, 54), (44, 55), (44, 56), (44, 57), (44, 58), (44, 59), (44, 60), (44, 61), (44, 62), (44, 63), (45, 36), (45, 37), (45, 38), (45, 39), (45, 40), (45, 41), (45, 42), (45, 43), (45, 44), (45, 45), (45, 46), (45, 47), (45, 48), (45, 49), (45, 51), (45, 52), (45, 53), (45, 54), (45, 55), (45, 56), (45, 57), (45, 58), (45, 59), (45, 60), (45, 61), (45, 62), (45, 63), (45, 64), (46, 36), (46, 37), (46, 38), (46, 39), (46, 40), (46, 41), (46, 42), (46, 43), (46, 44), (46, 45), (46, 46), (46, 54), (46, 55), (46, 56), (46, 57), (46, 58), (46, 59), (46, 60), (46, 61), (46, 62), (46, 63), (46, 64), (47, 36), (47, 37), (47, 38), (47, 39), (47, 40), (47, 41), (47, 42), (47, 43), (47, 44), (47, 45), (47, 55), (47, 56), (47, 57), (47, 58), (47, 59), (47, 60), (47, 61), (47, 62), (47, 63), (47, 64), (48, 36), (48, 37), (48, 38), (48, 39), (48, 40), (48, 41), (48, 42), (48, 43), (48, 44), (48, 45), (48, 55), (48, 56), (48, 57), (48, 58), (48, 59), (48, 60), (48, 61), (48, 62), (48, 63), (48, 64), (49, 36), (49, 37), (49, 38), (49, 39), (49, 40), (49, 41), (49, 42), (49, 43), (49, 44), (49, 45), (49, 55), (49, 56), (49, 57), (49, 58), (49, 59), (49, 60), (49, 61), (49, 62), (49, 63), (49, 64), (50, 36), (50, 37), (50, 38), (50, 39), (50, 40), (50, 41), (50, 42), (50, 43), (50, 44), (50, 56), (50, 57), (50, 58), (50, 59), (50, 60), (50, 61), (50, 62), (50, 63), (50, 64), (51, 36), (51, 37), (51, 38), (51, 39), (51, 40), (51, 41), (51, 42), (51, 43), (51, 44), (51, 45), (51, 55), (51, 56), (51, 57), (51, 58), (51, 59), (51, 60), (51, 61), (51, 62), (51, 63), (51, 64), (52, 36), (52, 37), (52, 38), (52, 39), (52, 40), (52, 41), (52, 42), (52, 43), (52, 44), (52, 45), (52, 55), (52, 56), (52, 57), (52, 58), (52, 59), (52, 60), (52, 61), (52, 62), (52, 63), (52, 64), (53, 36), (53, 37), (53, 38), (53, 39), (53, 40), (53, 41), (53, 42), (53, 43), (53, 44), (53, 45), (53, 55), (53, 56), (53, 57), (53, 58), (53, 59), (53, 60), (53, 61), (53, 62), (53, 63), (53, 64), (54, 36), (54, 37), (54, 38), (54, 39), (54, 40), (54, 41), (54, 42), (54, 43), (54, 44), (54, 45), (54, 46), (54, 54), (54, 55), (54, 56), (54, 57), (54, 58), (54, 59), (54, 60), (54, 61), (54, 62), (54, 63), (54, 64), (55, 36), (55, 37), (55, 38), (55, 39), (55, 40), (55, 41), (55, 42), (55, 43), (55, 44), (55, 45), (55, 46), (55, 47), (55, 48), (55, 49), (55, 51), (55, 52), (55, 53), (55, 54), (55, 55), (55, 56), (55, 57), (55, 58), (55, 59), (55, 60), (55, 61), (55, 62), (55, 63), (55, 64), (56, 37), (56, 38), (56, 39), (56, 40), (56, 41), (56, 42), (56, 43), (56, 44), (56, 45), (56, 46), (56, 47), (56, 48), (56, 49), (56, 50), (56, 51), (56, 52), (56, 53), (56, 54), (56, 55), (56, 56), (56, 57), (56, 58), (56, 59), (56, 60), (56, 61), (56, 62), (56, 63), (57, 37), (57, 38), (57, 39), (57, 40), (57, 41), (57, 42), (57, 43), (57, 44), (57, 45), (57, 46), (57, 47), (57, 48), (57, 49), (57, 50), (57, 51), (57, 52), (57, 53), (57, 54), (57, 55), (57, 56), (57, 57), (57, 58), (57, 59), (57, 60), (57, 61), (57, 62), (57, 63), (58, 38), (58, 39), (58, 40), (58, 41), (58, 42), (58, 43), (58, 44), (58, 45), (58, 46), (58, 47), (58, 48), (58, 49), (58, 50), (58, 51), (58, 52), (58, 53), (58, 54), (58, 55), (58, 56), (58, 57), (58, 58), (58, 59), (58, 60), (58, 61), (58, 62), (59, 39), (59, 40), (59, 41), (59, 42), (59, 43), (59, 44), (59, 45), (59, 46), (59, 47), (59, 48), (59, 49), (59, 50), (59, 51), (59, 52), (59, 53), (59, 54), (59, 55), (59, 56), (59, 57), (59, 58), (59, 59), (59, 60), (59, 61), (60, 39), (60, 40), (60, 41), (60, 42), (60, 43), (60, 44), (60, 45), (60, 46), (60, 47), (60, 48), (60, 49), (60, 50), (60, 51), (60, 52), (60, 53), (60, 54), (60, 55), (60, 56), (60, 57), (60, 58), (60, 59), (60, 60), (60, 61), (61, 40), (61, 41), (61, 42), (61, 43), (61, 44), (61, 45), (61, 46), (61, 47), (61, 48), (61, 49), (61, 50), (61, 51), (61, 52), (61, 53), (61, 54), (61, 55), (61, 56), (61, 57), (61, 58), (61, 59), (61, 60), (62, 42), (62, 43), (62, 44), (62, 45), (62, 46), (62, 47), (62, 48), (62, 49), (62, 50), (62, 51), (62, 52), (62, 53), (62, 54), (62, 55), (62, 56), (62, 57), (62, 58), (63, 43), (63, 44), (63, 45), (63, 46), (63, 47), (63, 48), (63, 49), (63, 50), (63, 51), (63, 52), (63, 53), (63, 54), (63, 55), (63, 56), (63, 57), (64, 45), (64, 46), (64, 47), (64, 48), (64, 49), (64, 50), (64, 51), (64, 52), (64, 53), (64, 54), (64, 55)]\n"
     ]
    }
   ],
   "source": [
    "rmin = 5\n",
    "rs =10\n",
    "rmax = 15\n",
    "size = 100\n",
    "center = 50\n",
    "spawnset = [ (y,x) for y in range(0,size) for x in range(0,size) if dist(y,x,center,center) > rmin and dist(y,x,center,center) < rmax]\n",
    "\n",
    "print(spawnset)"
   ]
  },
  {
   "cell_type": "code",
   "execution_count": 9,
   "metadata": {},
   "outputs": [
    {
     "name": "stdout",
     "output_type": "stream",
     "text": [
      "[1, 2, 3]\n"
     ]
    }
   ],
   "source": [
    "for i in range(20):\n",
    "\n",
    "    # Spawning a random point\n",
    "    gate1 = False\n",
    "    while gate1 == False:\n",
    "        spawnset = [y,x for y in range(0,size) for x in range(0,size) if dist(y,x,center,center) > rmin and dist(y,x,center,center) < rmax]\n",
    "        y,x = rng.choice(spawnset)\n",
    "        if board[y][x] == 0: gate1 = True\n",
    "    \n",
    "    \n",
    "\n",
    "        "
   ]
  }
 ],
 "metadata": {
  "kernelspec": {
   "display_name": "Python 3",
   "language": "python",
   "name": "python3"
  },
  "language_info": {
   "codemirror_mode": {
    "name": "ipython",
    "version": 3
   },
   "file_extension": ".py",
   "mimetype": "text/x-python",
   "name": "python",
   "nbconvert_exporter": "python",
   "pygments_lexer": "ipython3",
   "version": "3.12.5"
  }
 },
 "nbformat": 4,
 "nbformat_minor": 2
}
