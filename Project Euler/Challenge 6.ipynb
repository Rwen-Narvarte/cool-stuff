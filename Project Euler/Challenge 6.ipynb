{
 "cells": [
  {
   "attachments": {},
   "cell_type": "markdown",
   "metadata": {},
   "source": [
    "<span style=\"font-family: 'Monocraft',Monospace; font-size:2.2em\"> \n",
    "Project Euler 6\n"
   ]
  },
  {
   "attachments": {},
   "cell_type": "markdown",
   "metadata": {},
   "source": [
    "<span style=\"font-family: 'Monocraft',Monospace; font-size:1em\"> \n",
    "This is a series of exercises that I do because I can, the following are my solutions for each machine problem found at:\n",
    "\n",
    "[**Project Euler**](https://projecteuler.net/archives) Challenge **`#6`**. \n",
    "\n",
    "I really want to change my markdown to have minecraft font just by doing something in the settings but idk how, help on this pls."
   ]
  },
  {
   "attachments": {},
   "cell_type": "markdown",
   "metadata": {},
   "source": [
    "<span style=\"font-family: 'Monocraft',Monospace; font-size:1em\"> \n",
    "Importing Libraries\n"
   ]
  },
  {
   "cell_type": "code",
   "execution_count": 8,
   "metadata": {},
   "outputs": [],
   "source": [
    "#1.1 We only used one library in this house, and it's numpy\n",
    "import numpy as np"
   ]
  },
  {
   "attachments": {},
   "cell_type": "markdown",
   "metadata": {},
   "source": [
    "<span style=\"font-family: 'Monocraft',Monospace; font-size:1em\"> \n",
    "Set-up"
   ]
  },
  {
   "cell_type": "code",
   "execution_count": 9,
   "metadata": {},
   "outputs": [],
   "source": [
    "#2.1 List of all our numbers\n",
    "Numbers = [1,2,3,4,5,6,7,8,9,10,11,12,13,14,15,16,17,18,19,20]"
   ]
  },
  {
   "attachments": {},
   "cell_type": "markdown",
   "metadata": {},
   "source": [
    "<span style=\"font-family: 'Monocraft',Monospace; font-size:2em\"> \n",
    "Where I invested all my braincells"
   ]
  },
  {
   "attachments": {},
   "cell_type": "markdown",
   "metadata": {},
   "source": [
    "<span style=\"font-family: 'Monocraft',Monospace; font-size:1em\"> \n",
    "Arithemtic Series Squared and Arithmetic Series Squared"
   ]
  },
  {
   "cell_type": "code",
   "execution_count": 10,
   "metadata": {},
   "outputs": [],
   "source": [
    "#3.1 Make a function for Arithmetic Series\n",
    "def Square_Arithmetic(N):\n",
    "    Sum_Square = []\n",
    "\n",
    "\n",
    "    #3.2 Square the element the add to list\n",
    "    for i in range(1,N+1):\n",
    "        Sum_Square.append(i*i)\n",
    "    \n",
    "    \n",
    "    #3.3 Sum the elements\n",
    "    S = sum(Sum_Square)\n",
    "\n",
    "\n",
    "    #3.4 This\n",
    "    return S"
   ]
  },
  {
   "cell_type": "code",
   "execution_count": 11,
   "metadata": {},
   "outputs": [],
   "source": [
    "#4.1 Make a function for Arithmetic Series Squared\n",
    "def Arithmetic_Square(N):\n",
    "    S = 0\n",
    "\n",
    "    #4.2 Kinda giving up making comments at this point\n",
    "    for i in range(1,N+1):\n",
    "        S = S + i\n",
    "\n",
    "    \n",
    "    #4.3 Square the result\n",
    "    S = S*S\n",
    "\n",
    "\n",
    "    #4.4 This\n",
    "    return S"
   ]
  },
  {
   "cell_type": "code",
   "execution_count": 12,
   "metadata": {},
   "outputs": [
    {
     "name": "stdout",
     "output_type": "stream",
     "text": [
      "25164150\n"
     ]
    }
   ],
   "source": [
    "#5.1 This\n",
    "Answer = Arithmetic_Square(100) - Square_Arithmetic(100)\n",
    "\n",
    "\n",
    "#5.2 And this\n",
    "print(Answer)"
   ]
  }
 ],
 "metadata": {
  "kernelspec": {
   "display_name": "base",
   "language": "python",
   "name": "python3"
  },
  "language_info": {
   "codemirror_mode": {
    "name": "ipython",
    "version": 3
   },
   "file_extension": ".py",
   "mimetype": "text/x-python",
   "name": "python",
   "nbconvert_exporter": "python",
   "pygments_lexer": "ipython3",
   "version": "3.9.7"
  },
  "orig_nbformat": 4
 },
 "nbformat": 4,
 "nbformat_minor": 2
}
