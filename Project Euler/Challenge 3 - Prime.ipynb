{
 "cells": [
  {
   "attachments": {},
   "cell_type": "markdown",
   "metadata": {},
   "source": [
    "<span style=\"font-family: 'Monocraft',Monospace; font-size:2.2em\"> \n",
    "Project Euler 3\n"
   ]
  },
  {
   "attachments": {},
   "cell_type": "markdown",
   "metadata": {},
   "source": [
    "<span style=\"font-family: 'Monocraft',Monospace; font-size:1em\"> \n",
    "This is a series of exercises that I do because I can, the following are my solutions for each machine problem found at:\n",
    "\n",
    "[**Project Euler**](https://projecteuler.net/archives) Challenge **`#3`**. \n",
    "\n",
    "I really want to change my markdown to have minecraft font just by doing something in the settings but idk how, help on this pls."
   ]
  },
  {
   "attachments": {},
   "cell_type": "markdown",
   "metadata": {},
   "source": [
    "<span style=\"font-family: 'Monocraft',Monospace; font-size:1em\"> \n",
    "Importing Libraries\n"
   ]
  },
  {
   "cell_type": "code",
   "execution_count": 82,
   "metadata": {},
   "outputs": [],
   "source": [
    "#1.1 We only used one library in this house, and it's numpy\n",
    "import numpy as np"
   ]
  },
  {
   "attachments": {},
   "cell_type": "markdown",
   "metadata": {},
   "source": [
    "<span style=\"font-family: 'Monocraft',Monospace; font-size:1em\"> \n",
    "Set-up"
   ]
  },
  {
   "cell_type": "code",
   "execution_count": 83,
   "metadata": {},
   "outputs": [],
   "source": [
    "#2.1 Designated number to prime factor\n",
    "n = 600851475143 "
   ]
  },
  {
   "attachments": {},
   "cell_type": "markdown",
   "metadata": {},
   "source": [
    "<span style=\"font-family: 'Monocraft',Monospace; font-size:2em\"> \n",
    "Where I invested all my braincells"
   ]
  },
  {
   "attachments": {},
   "cell_type": "markdown",
   "metadata": {},
   "source": [
    "<span style=\"font-family: 'Monocraft',Monospace; font-size:1em\"> \n",
    "Is it a prime number?"
   ]
  },
  {
   "cell_type": "code",
   "execution_count": 84,
   "metadata": {},
   "outputs": [],
   "source": [
    "#3.1 Creating a function to identify whether this number is prime\n",
    "def prime(N):\n",
    "    factors = []        #blank list\n",
    "\n",
    "\n",
    "    #3.2 Composite if it's even\n",
    "    if N%2 == 0: \n",
    "        x  = 'composite'\n",
    "    \n",
    "\n",
    "    #3.3 Prime if it's 2 (The only even prime number)\n",
    "    else:\n",
    "        if N == 2:\n",
    "            x = 'prime'\n",
    "        \n",
    "\n",
    "        #3.4 Iterating over odd numbers instead of all numbers up to N\n",
    "        else:\n",
    "            for i in range(3,int(np.sqrt(N)+2),2):\n",
    "                if N%i == 0:\n",
    "                    factors.append(i)\n",
    "            \n",
    "\n",
    "            #3.5 If there are no \"factors\", it is prime\n",
    "            if len(factors) == 0: x = 'prime'\n",
    "            else: x = 'composite'\n",
    "\n",
    "\n",
    "    #3.6 this\n",
    "    return x         "
   ]
  },
  {
   "attachments": {},
   "cell_type": "markdown",
   "metadata": {},
   "source": [
    "<span style=\"font-family: 'Monocraft',Monospace; font-size:1em\"> \n",
    "Prime Factorizationanatortinator"
   ]
  },
  {
   "cell_type": "code",
   "execution_count": 85,
   "metadata": {},
   "outputs": [
    {
     "name": "stdout",
     "output_type": "stream",
     "text": [
      "[71, 839, 1471, 6857]\n"
     ]
    }
   ],
   "source": [
    "#4.1 Prime factorization\n",
    "def primefactorizationanatortinator(N):\n",
    "    primefactors = []               # Blank list for prime factors\n",
    "\n",
    "    \n",
    "    #4.2 As long as current number isn't prime, keep factoring\n",
    "    while prime(N) != 'prime':\n",
    "\n",
    "\n",
    "        #4.3 Checking if 2 is a factor of this number\n",
    "        if N%2 == 0:\n",
    "            primefactors.append(2)\n",
    "            N = N/2                                     # Dividing N by 2, then \n",
    "                                                        # updating the new \"N\"\n",
    "        \n",
    "\n",
    "        #4.4 Checking each odd number if it's a factor of \"N\"\n",
    "        else:\n",
    "            for i in range(3,int(np.sqrt(N)+2),2):\n",
    "                if N%i == 0:\n",
    "                    N = N/i         # Factoring the number \n",
    "                    primefactors.append(i)\n",
    "                    if prime(N) == 'prime':             # Error proofing incase the \n",
    "                        primefactors.append(int(N))     # number is already prime\n",
    "                    break                               # Get out of factor loop\n",
    "\n",
    "\n",
    "    #4.5 This\n",
    "    return primefactors\n",
    "\n",
    "\n",
    "#4.6 Doing the thing\n",
    "print(primefactorizationanatortinator(n))"
   ]
  },
  {
   "attachments": {},
   "cell_type": "markdown",
   "metadata": {},
   "source": [
    "<span style=\"font-family: 'Monocraft',Monospace; font-size:1em\"> \n",
    "I present a shorter solution but the runtime is longer due to the way this function works, iterates `i` from the range `1` to `N` to check whether `i` is a factor. This is much more straight forward but loses potency over larger `N` thus the need to modify this version."
   ]
  },
  {
   "cell_type": "code",
   "execution_count": 86,
   "metadata": {},
   "outputs": [],
   "source": [
    "def prime(N):\n",
    "    factors = []\n",
    "    for i in range(1,int(np.sqrt(N)+1)):\n",
    "        if N%i == 0: factors.append(i)\n",
    "    if len(factors) == 1: x = 'prime'\n",
    "    else: x = 'composite'\n",
    "    return x         "
   ]
  },
  {
   "cell_type": "code",
   "execution_count": 87,
   "metadata": {},
   "outputs": [
    {
     "name": "stdout",
     "output_type": "stream",
     "text": [
      "[71, 839, 1471, 6857]\n"
     ]
    }
   ],
   "source": [
    "# I suggest not running this cell\n",
    "def primefactorizationanatortinator(N):\n",
    "    primefactors = []              \n",
    "    while prime(N) != 'prime':\n",
    "        for i in range(2,int(np.sqrt(N)+1)):\n",
    "            if N%i == 0:\n",
    "                N = N/i         \n",
    "                primefactors.append(i)\n",
    "                if prime(N) == 'prime': primefactors.append(int(N))    \n",
    "                break                              \n",
    "    return primefactors\n",
    "\n",
    "print(primefactorizationanatortinator(n))"
   ]
  }
 ],
 "metadata": {
  "kernelspec": {
   "display_name": "base",
   "language": "python",
   "name": "python3"
  },
  "language_info": {
   "codemirror_mode": {
    "name": "ipython",
    "version": 3
   },
   "file_extension": ".py",
   "mimetype": "text/x-python",
   "name": "python",
   "nbconvert_exporter": "python",
   "pygments_lexer": "ipython3",
   "version": "3.9.7"
  },
  "orig_nbformat": 4
 },
 "nbformat": 4,
 "nbformat_minor": 2
}
