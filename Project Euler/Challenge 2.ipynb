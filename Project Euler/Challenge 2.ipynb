{
 "cells": [
  {
   "attachments": {},
   "cell_type": "markdown",
   "metadata": {},
   "source": [
    "<span style=\"font-family: 'Monocraft',Monospace; font-size:2.2em\"> \n",
    "Project Euler 2\n"
   ]
  },
  {
   "attachments": {},
   "cell_type": "markdown",
   "metadata": {},
   "source": [
    "<span style=\"font-family: 'Monocraft',Monospace; font-size:1em\"> \n",
    "This is a series of exercises that I do because I can, the following are my solutions for each machine problem found at:\n",
    "\n",
    "[**Project Euler**](https://projecteuler.net/archives) Challenge `#2`. \n",
    "\n",
    "I really want to change my markdown to have minecraft font just by doing something in the settings but idk how, help on this pls."
   ]
  },
  {
   "attachments": {},
   "cell_type": "markdown",
   "metadata": {},
   "source": [
    "<span style=\"font-family: 'Monocraft',Monospace; font-size:1em\"> \n",
    "Importing Libraries\n"
   ]
  },
  {
   "cell_type": "code",
   "execution_count": 6,
   "metadata": {},
   "outputs": [],
   "source": [
    "#1.1 We only used one library in this house, and it's numpy\n",
    "import numpy as np"
   ]
  },
  {
   "attachments": {},
   "cell_type": "markdown",
   "metadata": {},
   "source": [
    "<span style=\"font-family: 'Monocraft',Monospace; font-size:1em\"> \n",
    "Set-up"
   ]
  },
  {
   "cell_type": "code",
   "execution_count": 7,
   "metadata": {},
   "outputs": [],
   "source": [
    "#2.1 Setting the initial sum to be zero.\n",
    "s = 0\n",
    "\n",
    "\n",
    "#2.2 Our fibonacci sequence.\n",
    "list = [1,2]"
   ]
  },
  {
   "attachments": {},
   "cell_type": "markdown",
   "metadata": {},
   "source": [
    "<span style=\"font-family: 'Monocraft',Monospace; font-size:1em\"> \n",
    "Where I invested all my braincells"
   ]
  },
  {
   "cell_type": "code",
   "execution_count": 8,
   "metadata": {},
   "outputs": [
    {
     "name": "stdout",
     "output_type": "stream",
     "text": [
      "4613732\n"
     ]
    }
   ],
   "source": [
    "#3.1 Using a while loop that stops when we reach 4000000\n",
    "while list[-1] < 4000000:\n",
    "    list.append(list[-1]+list[-2])      #Fibonacci sequencer. Adds the next number \n",
    "                                        #in the same list\n",
    "\n",
    "\n",
    "#3.2 Gets the sum of even numbers in the list / sequence\n",
    "for i in list:\n",
    "    if i%2 == 0: s += i\n",
    "\n",
    "\n",
    "#3.3 Prints the answer\n",
    "print(s)"
   ]
  },
  {
   "attachments": {},
   "cell_type": "markdown",
   "metadata": {},
   "source": [
    "<span style=\"font-family: 'Monocraft',Monospace; font-size:1em\">\n",
    "\n",
    "I follow a Top-down approach, I started with the overarching theme which was the `4000000` limiter using a **`while`** loop. \n",
    "\n",
    "` while i < 4000000`\n",
    "\n",
    "I then proceeded to the succeeding layers of detail such as defining what **`i`** is (the last element of the sequence), or making the fibonacci sequence itself, and other details in the process. \n",
    "\n",
    "I build from the most general idea, and then i build the rest of the code on top of that."
   ]
  }
 ],
 "metadata": {
  "kernelspec": {
   "display_name": "base",
   "language": "python",
   "name": "python3"
  },
  "language_info": {
   "codemirror_mode": {
    "name": "ipython",
    "version": 3
   },
   "file_extension": ".py",
   "mimetype": "text/x-python",
   "name": "python",
   "nbconvert_exporter": "python",
   "pygments_lexer": "ipython3",
   "version": "3.9.7"
  },
  "orig_nbformat": 4
 },
 "nbformat": 4,
 "nbformat_minor": 2
}
