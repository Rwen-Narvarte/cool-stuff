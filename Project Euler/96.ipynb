{
 "cells": [
  {
   "cell_type": "code",
   "execution_count": 202,
   "metadata": {},
   "outputs": [],
   "source": [
    "# With numerical speed and computing prowess \n",
    "# The number package in python\n",
    "# Domain Expansion:\n",
    "import numpy as np\n",
    "import pandas as pd\n",
    "from matplotlib import pyplot as plt\n",
    "import imageio"
   ]
  },
  {
   "cell_type": "code",
   "execution_count": 203,
   "metadata": {},
   "outputs": [],
   "source": [
    "# Raw data from the internet\n",
    "csv = [\n",
    "    '003020600',\n",
    "    '900305001',\n",
    "    '001806400',\n",
    "    '008102900',\n",
    "    '700000008',\n",
    "    '006708200',\n",
    "    '002609500',\n",
    "    '800203009',\n",
    "    '005010300']\n"
   ]
  },
  {
   "cell_type": "code",
   "execution_count": 204,
   "metadata": {},
   "outputs": [
    {
     "name": "stderr",
     "output_type": "stream",
     "text": [
      "C:\\Users\\rbnar\\AppData\\Local\\Temp\\ipykernel_12868\\3053287447.py:53: DeprecationWarning: Starting with ImageIO v3 the behavior of this function will switch to that of iio.v3.imread. To keep the current behavior (and make this warning disappear) use `import imageio.v2 as imageio` or call `imageio.v2.imread` directly.\n",
      "  frames.append(imageio.imread(filename))\n"
     ]
    }
   ],
   "source": [
    "# Reformatting the data\n",
    "data = []\n",
    "for i in csv:\n",
    "    list1 = []\n",
    "    for char in i:\n",
    "        list1.append(int(char))                         # This essentially turns this into\n",
    "    data.append(list1)                                  # a 2D Array. I prefer to keep things that way\n",
    "\n",
    "\n",
    "# For Visualization as .png. \n",
    "# Taken from GPT using simple imshow and label\n",
    "# Many ways to do this, no need to overthink\n",
    "# Just for Aesthetics\n",
    "def vis(data):\n",
    "    fig , ax = plt.subplots()\n",
    "    cax = ax.imshow(\n",
    "        data, \n",
    "        cmap='binary', \n",
    "        interpolation='nearest',\n",
    "        vmin = 0,\n",
    "        vmax = 20\n",
    "        )\n",
    "    for i in range(len(data)):\n",
    "        for j in range(len(data)):\n",
    "            ax.text(j, \n",
    "                    i, \n",
    "                    data[i][j], \n",
    "                    ha='center', \n",
    "                    va='center', \n",
    "                    color='black', \n",
    "                    fontsize=12\n",
    "                    )\n",
    "\n",
    "    ax.tick_params(\n",
    "        top=False, \n",
    "        bottom=False, \n",
    "        left=False, \n",
    "        right=False, \n",
    "        labelleft=False, \n",
    "        labelbottom=False\n",
    "        )\n",
    "    \n",
    "    plt.savefig(filename)\n",
    "    plt.close()\n",
    "\n",
    "vis(data)\n",
    "\n",
    "# This one is for turning the .png into a .gif later\n",
    "# Many ways to do this, again, just for aesthetics\n",
    "frames = []\n",
    "for i in range(0,5):\n",
    "    filename = f'frame{i}.png'\n",
    "    vis(data)\n",
    "    frames.append(imageio.imread(filename))"
   ]
  },
  {
   "cell_type": "markdown",
   "metadata": {},
   "source": [
    "Some Translators"
   ]
  },
  {
   "cell_type": "code",
   "execution_count": 205,
   "metadata": {},
   "outputs": [
    {
     "name": "stdout",
     "output_type": "stream",
     "text": [
      "Box Boundary: [1, 0, 2, 0, 0, 0, 7, 0, 8]\n",
      "Column Boundary: [0, 3, 8, 1, 0, 7, 6, 2, 0]\n",
      "Row Boundary: [7, 0, 0, 0, 0, 0, 0, 0, 8]\n"
     ]
    }
   ],
   "source": [
    "def box(y,x):\n",
    "\n",
    "    if (y%3) - 1 != 0: y_center = y - ((y%3)-1)                 # y%3 because each big block is 3 blocks high. I want to \"quantize/group\" it\n",
    "    else: y_center = y                                        # I want to know the distance between the current y from the center\n",
    "                                                                # This way. I can add/subtract back the distance to the current y\n",
    "                                                                # to get y_center.\n",
    "\n",
    "    if (x%3) - 1 != 0: x_center = x - ((x%3)-1)\n",
    "    else: x_center = x\n",
    "\n",
    "    # Kernel Density (Not \"Kernel\" from comsci but \"Kernel\" from Math)\n",
    "    boxlist = [\n",
    "        data[y_center-1][x_center-1] , data[y_center-1][x_center] , data[y_center-1][x_center+1] ,\n",
    "        data[y_center][x_center-1] , data[y_center][x_center] , data[y_center][x_center+1] ,\n",
    "        data[y_center+1][x_center-1] , data[y_center+1][x_center] , data[y_center+1][x_center+1]\n",
    "    ]\n",
    "    return boxlist\n",
    "\n",
    "\n",
    "def col(y,x):\n",
    "    collist = []\n",
    "    for y in data:\n",
    "        collist.append(y[x])\n",
    "    return collist\n",
    "\n",
    "\n",
    "def row(y,x):\n",
    "    return data[y]\n",
    "\n",
    "# my coordinate system is (y,x) instead of (x,y)\n",
    "# and (0,0) is the top left cell of the puzzle\n",
    "# (8,8) is the bottom right cell of the puzzle\n",
    "print(f'Box Boundary: {box(4,3)}')\n",
    "print(f'Column Boundary: {col(4,3)}')\n",
    "print(f'Row Boundary: {row(4,3)}')"
   ]
  },
  {
   "cell_type": "markdown",
   "metadata": {},
   "source": [
    "Some Algorithms"
   ]
  },
  {
   "cell_type": "code",
   "execution_count": 206,
   "metadata": {},
   "outputs": [
    {
     "name": "stdout",
     "output_type": "stream",
     "text": [
      "49\n"
     ]
    }
   ],
   "source": [
    "# Generate list of blanks in the puzzle\n",
    "# Asked GPT for this one for a better time complexity that doing double for loop\n",
    "empty = [(y_0,x_0) for y_0 in range(len(data)) for x_0 in range(len(data[y_0])) if data[y_0][x_0] == 0]\n",
    "print(len(empty))\n",
    "#for y,x in empty: print(y,x)\n",
    "basis = [1,2,3,4,5,6,7,8,9] "
   ]
  },
  {
   "cell_type": "code",
   "execution_count": 207,
   "metadata": {},
   "outputs": [],
   "source": [
    "# Cross Method\n",
    "# Check Row, Column, and Box for Missing Number\n",
    "def cross(y,x):\n",
    "    cross = box(y,x) + col(y,x) + row(y,x)                      # Gives me all the numbers in the box, col, and row \n",
    "\n",
    "    cross = [ _ for _ in cross if _ != 0 ]                      # Removes all empty cells (zeroes) in the list \"cross\"\n",
    "    subtract = [ _ for _ in basis if _ not in cross]            # checks what numbers arent in the box, col, and row\n",
    "\n",
    "\n",
    "    return subtract\n"
   ]
  },
  {
   "cell_type": "markdown",
   "metadata": {},
   "source": [
    "Computation"
   ]
  },
  {
   "cell_type": "code",
   "execution_count": 208,
   "metadata": {},
   "outputs": [
    {
     "name": "stderr",
     "output_type": "stream",
     "text": [
      "C:\\Users\\rbnar\\AppData\\Local\\Temp\\ipykernel_12868\\1622397658.py:14: DeprecationWarning: Starting with ImageIO v3 the behavior of this function will switch to that of iio.v3.imread. To keep the current behavior (and make this warning disappear) use `import imageio.v2 as imageio` or call `imageio.v2.imread` directly.\n",
      "  frames.append(imageio.imread(filename))\n"
     ]
    }
   ],
   "source": [
    "vis(data)\n",
    "sweep = 5\n",
    "filename = f'frame_{sweep}.png'\n",
    "\n",
    "while len(empty) > 0:\n",
    "    for y,x in empty:\n",
    "        if len(cross(y,x)) == 1:\n",
    "            data[y][x] = cross(y,x)[0]\n",
    "            empty.remove((y,x))\n",
    "\n",
    "            vis(data)\n",
    "            sweep += 1\n",
    "\n",
    "            frames.append(imageio.imread(filename))"
   ]
  },
  {
   "cell_type": "markdown",
   "metadata": {},
   "source": [
    "Video"
   ]
  },
  {
   "cell_type": "code",
   "execution_count": 209,
   "metadata": {},
   "outputs": [],
   "source": [
    "imageio.mimsave('output.gif', frames, duration=0.1)"
   ]
  }
 ],
 "metadata": {
  "kernelspec": {
   "display_name": "Python 3",
   "language": "python",
   "name": "python3"
  },
  "language_info": {
   "codemirror_mode": {
    "name": "ipython",
    "version": 3
   },
   "file_extension": ".py",
   "mimetype": "text/x-python",
   "name": "python",
   "nbconvert_exporter": "python",
   "pygments_lexer": "ipython3",
   "version": "3.12.5"
  }
 },
 "nbformat": 4,
 "nbformat_minor": 2
}
