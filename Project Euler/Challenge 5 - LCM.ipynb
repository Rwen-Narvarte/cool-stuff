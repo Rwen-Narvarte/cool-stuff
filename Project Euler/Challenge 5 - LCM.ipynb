{
 "cells": [
  {
   "attachments": {},
   "cell_type": "markdown",
   "metadata": {},
   "source": [
    "<span style=\"font-family: 'Monocraft',Monospace; font-size:2.2em\"> \n",
    "Project Euler 5\n"
   ]
  },
  {
   "attachments": {},
   "cell_type": "markdown",
   "metadata": {},
   "source": [
    "<span style=\"font-family: 'Monocraft',Monospace; font-size:1em\"> \n",
    "This is a series of exercises that I do because I can, the following are my solutions for each machine problem found at:\n",
    "\n",
    "[**Project Euler**](https://projecteuler.net/archives) Challenge **`#5`**. \n",
    "\n",
    "I really want to change my markdown to have minecraft font just by doing something in the settings but idk how, help on this pls."
   ]
  },
  {
   "attachments": {},
   "cell_type": "markdown",
   "metadata": {},
   "source": [
    "<span style=\"font-family: 'Monocraft',Monospace; font-size:1em\"> \n",
    "Importing Libraries\n"
   ]
  },
  {
   "cell_type": "code",
   "execution_count": 39,
   "metadata": {},
   "outputs": [],
   "source": [
    "#1.1 We only used one library in this house, and it's numpy\n",
    "import numpy as np"
   ]
  },
  {
   "attachments": {},
   "cell_type": "markdown",
   "metadata": {},
   "source": [
    "<span style=\"font-family: 'Monocraft',Monospace; font-size:1em\"> \n",
    "Set-up"
   ]
  },
  {
   "cell_type": "code",
   "execution_count": 40,
   "metadata": {},
   "outputs": [],
   "source": [
    "#2.1 List of all our numbers\n",
    "Numbers = [1,2,3,4,5,6,7,8,9,10,11,12,13,14,15,16,17,18,19,20]"
   ]
  },
  {
   "attachments": {},
   "cell_type": "markdown",
   "metadata": {},
   "source": [
    "<span style=\"font-family: 'Monocraft',Monospace; font-size:2em\"> \n",
    "Where I invested all my braincells"
   ]
  },
  {
   "attachments": {},
   "cell_type": "markdown",
   "metadata": {},
   "source": [
    "<span style=\"font-family: 'Monocraft',Monospace; font-size:1em\"> \n",
    "The LCM"
   ]
  },
  {
   "cell_type": "code",
   "execution_count": 42,
   "metadata": {},
   "outputs": [
    {
     "data": {
      "text/plain": [
       "232792560"
      ]
     },
     "execution_count": 42,
     "metadata": {},
     "output_type": "execute_result"
    }
   ],
   "source": [
    "#3.1 Creating a function for LCM\n",
    "def lcm(A):\n",
    "\n",
    "\n",
    "    #3.2 Setting initial values\n",
    "    N = 2\n",
    "    List = []\n",
    "    mood = 'depresiom'\n",
    "\n",
    "\n",
    "    #3.3 While loop as long as we havent found the lcm\n",
    "    while mood == 'depresiom':\n",
    "\n",
    "\n",
    "        #3.4 Modulo our 'N' by each element in 'A' then append the result to 'List'\n",
    "        for i in A:\n",
    "            Q = N%i\n",
    "            List.append(Q)\n",
    "        \n",
    "\n",
    "        #3.5 If the sum of the elements in the list is not '0',\n",
    "        # Increase N and repeat the whole process\n",
    "        if sum(List) != 0:\n",
    "            N = N + 2\n",
    "            List = []                       # Resetting the 'List'\n",
    "        else:\n",
    "            mood = 'hapihapihapi'           # If there are no remainders,\n",
    "    return N                                # then it's probably because we found\n",
    "                                            # our LCM as N\n",
    "\n",
    "#3.6 This\n",
    "lcm(Numbers)\n",
    "\n",
    "\n",
    "# Runtime was 8mins 30secs xDDDD"
   ]
  },
  {
   "attachments": {},
   "cell_type": "markdown",
   "metadata": {},
   "source": [
    "<span style=\"font-family: 'Monocraft',Monospace; font-size:1em\"> \n",
    "\n",
    "The program at the bottom runs faster and it's what I used to solve the problem. Instead of doing `N = N + 1`, I instead use `N = N + 2520`, `2520` comming from the **`LCM`** of the numbers 1 to 10 which I used to solve using the same code (but with `N = N + 1`). I also adjusted the starting value to be `N = 2520` instead of `N = 1`"
   ]
  },
  {
   "cell_type": "code",
   "execution_count": 44,
   "metadata": {},
   "outputs": [
    {
     "data": {
      "text/plain": [
       "232792560"
      ]
     },
     "execution_count": 44,
     "metadata": {},
     "output_type": "execute_result"
    }
   ],
   "source": [
    "def lcm(A):\n",
    "    N = 2520\n",
    "    List = []\n",
    "    mood = 'depresiom'\n",
    "\n",
    "    while mood == 'depresiom':\n",
    "        for i in A:\n",
    "            Q = N%i\n",
    "            List.append(Q)\n",
    "        if sum(List) != 0:\n",
    "            N = N + 2520\n",
    "            List = []\n",
    "        else:\n",
    "            mood = 'hapihapihapi'\n",
    "    return N    \n",
    "\n",
    "\n",
    "lcm(Numbers)\n"
   ]
  }
 ],
 "metadata": {
  "kernelspec": {
   "display_name": "base",
   "language": "python",
   "name": "python3"
  },
  "language_info": {
   "codemirror_mode": {
    "name": "ipython",
    "version": 3
   },
   "file_extension": ".py",
   "mimetype": "text/x-python",
   "name": "python",
   "nbconvert_exporter": "python",
   "pygments_lexer": "ipython3",
   "version": "3.9.7"
  },
  "orig_nbformat": 4
 },
 "nbformat": 4,
 "nbformat_minor": 2
}
