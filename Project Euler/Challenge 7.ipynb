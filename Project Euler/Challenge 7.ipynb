{
 "cells": [
  {
   "attachments": {},
   "cell_type": "markdown",
   "metadata": {},
   "source": [
    "<span style=\"font-family: 'Monocraft',Monospace; font-size:2.2em\"> \n",
    "Project Euler 8\n"
   ]
  },
  {
   "attachments": {},
   "cell_type": "markdown",
   "metadata": {},
   "source": [
    "<span style=\"font-family: 'Monocraft',Monospace; font-size:1em\"> \n",
    "This is a series of exercises that I do because I can, the following are my solutions for each machine problem found at:\n",
    "\n",
    "[**Project Euler**](https://projecteuler.net/archives) Challenge **`#8`**. \n",
    "\n",
    "I really want to change my markdown to have minecraft font just by doing something in the settings but idk how, help on this pls."
   ]
  },
  {
   "attachments": {},
   "cell_type": "markdown",
   "metadata": {},
   "source": [
    "<span style=\"font-family: 'Monocraft',Monospace; font-size:1em\"> \n",
    "Importing Libraries\n"
   ]
  },
  {
   "cell_type": "code",
   "execution_count": 30,
   "metadata": {},
   "outputs": [],
   "source": [
    "#1.1 We only used one library in this house, and it's numpy\n",
    "import numpy as np"
   ]
  },
  {
   "attachments": {},
   "cell_type": "markdown",
   "metadata": {},
   "source": [
    "<span style=\"font-family: 'Monocraft',Monospace; font-size:2em\"> \n",
    "Where I invested all my braincells"
   ]
  },
  {
   "attachments": {},
   "cell_type": "markdown",
   "metadata": {},
   "source": [
    "<span style=\"font-family: 'Monocraft',Monospace; font-size:1em\"> \n",
    "Prime function from last time"
   ]
  },
  {
   "cell_type": "code",
   "execution_count": 31,
   "metadata": {},
   "outputs": [],
   "source": [
    "#2.1 Creating a function to identify whether this number is prime\n",
    "def prime(N):\n",
    "    factors = []        #blank list\n",
    "\n",
    "\n",
    "    #2.2 Composite if it's even\n",
    "    if N%2 == 0: \n",
    "        x  = 'composite'\n",
    "    \n",
    "\n",
    "    #2.3 Prime if it's 2 (The only even prime number)\n",
    "    else:\n",
    "        if N == 2:\n",
    "            x = 'prime'\n",
    "        \n",
    "\n",
    "        #2.4 Iterating over odd numbers instead of all numbers up to N\n",
    "        else:\n",
    "            for i in range(3,int(np.sqrt(N)+2),2):\n",
    "                if N%i == 0:\n",
    "                    factors.append(i)\n",
    "            \n",
    "\n",
    "            #2.5 If there are no \"factors\", it is prime\n",
    "            if len(factors) == 0: x = 'prime'\n",
    "            else: x = 'composite'\n",
    "\n",
    "\n",
    "    #2.6 this\n",
    "    return x         "
   ]
  },
  {
   "attachments": {},
   "cell_type": "markdown",
   "metadata": {},
   "source": [
    "<span style=\"font-family: 'Monocraft',Monospace; font-size:1em\"> \n",
    "\n",
    "Set-up"
   ]
  },
  {
   "cell_type": "code",
   "execution_count": 32,
   "metadata": {},
   "outputs": [],
   "source": [
    "#3.1 Set-up\n",
    "Primes = []\n",
    "N = 2"
   ]
  },
  {
   "attachments": {},
   "cell_type": "markdown",
   "metadata": {},
   "source": [
    "<span style=\"font-family: 'Monocraft',Monospace; font-size:1em\"> \n",
    "\n",
    "Getting the `N`th prime"
   ]
  },
  {
   "cell_type": "code",
   "execution_count": 33,
   "metadata": {},
   "outputs": [
    {
     "name": "stdout",
     "output_type": "stream",
     "text": [
      "104743\n"
     ]
    }
   ],
   "source": [
    "#4.1 Cap to 10001'th prime\n",
    "while len(Primes) != 10000:\n",
    "\n",
    "\n",
    "    #4.2 For increasing value N, Append to Primes list if it's a prime\n",
    "    if prime(N) == 'prime':\n",
    "        Primes.append(N)\n",
    "        N = N + 1                           # Increase test value N\n",
    "    else:\n",
    "        N = N + 1                           # Increase test value N\n",
    "\n",
    "\n",
    "#4.3 This\n",
    "print(Primes[-1])\n",
    "\n"
   ]
  }
 ],
 "metadata": {
  "kernelspec": {
   "display_name": "base",
   "language": "python",
   "name": "python3"
  },
  "language_info": {
   "codemirror_mode": {
    "name": "ipython",
    "version": 3
   },
   "file_extension": ".py",
   "mimetype": "text/x-python",
   "name": "python",
   "nbconvert_exporter": "python",
   "pygments_lexer": "ipython3",
   "version": "3.9.7"
  },
  "orig_nbformat": 4
 },
 "nbformat": 4,
 "nbformat_minor": 2
}
