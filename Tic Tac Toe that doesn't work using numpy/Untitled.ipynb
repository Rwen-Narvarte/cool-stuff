{
 "cells": [
  {
   "cell_type": "markdown",
   "id": "d27da675",
   "metadata": {},
   "source": [
    "# Tic Tac Toe but with numpy and it's stupid bc it doesn't work"
   ]
  },
  {
   "cell_type": "code",
   "execution_count": 1,
   "id": "65bada2e",
   "metadata": {},
   "outputs": [],
   "source": [
    "#1.1 Importing necessary library, the numpy library, we only use numpy in this house.\n",
    "import numpy as np\n"
   ]
  },
  {
   "cell_type": "markdown",
   "id": "727a3ea0",
   "metadata": {},
   "source": [
    "### Making the board and game environment"
   ]
  },
  {
   "cell_type": "code",
   "execution_count": 2,
   "id": "1f90703b",
   "metadata": {},
   "outputs": [
    {
     "name": "stdout",
     "output_type": "stream",
     "text": [
      "[['_' '_' '_']\n",
      " ['_' '_' '_']\n",
      " ['_' '_' '_']]\n"
     ]
    }
   ],
   "source": [
    "#2.1 Creating the Board\n",
    "board = np.array ( [[0,0,0],[0,0,0],[0,0,0]])\n",
    "board = board.astype(str)\n",
    "board[:] = \"_\"\n",
    "\n",
    "#2.2 Creating a dictionary which will serve as our translation between board and python itteration\n",
    "dictrow = {'a':0,'b':1,'c':2}\n",
    "dictcol = {'1':0,'2':1,'3':2}\n",
    "\n",
    "#2.3 Making a list of valid moves and winning moves\n",
    "validmoves = ['a1','a2','a3','b1','b2','b3','c1','c2','c3']\n",
    "winningmoves = [['a1','a2','a3'],['b1','b2','b3'],['c1','c2','c3'],['a1','b1','c1'],['a2','b2','c2'],['a3','b3','c3'],['a1','b2','c3'],['a3','b2','c1']]\n",
    "\n",
    "#2.4 Empty lists to store the player's moves during the game.\n",
    "Xmoves = []\n",
    "Omoves = []\n",
    "movelist = []"
   ]
  },
  {
   "cell_type": "code",
   "execution_count": null,
   "id": "aab2fc55",
   "metadata": {},
   "outputs": [],
   "source": [
    "counter = 1\n",
    "game = True\n",
    "\n",
    "\n",
    "\n",
    "\n",
    "def func1(x):\n",
    "\treturn dictrow[x[0]]\n",
    "\t\n",
    "def func2(x):\n",
    "\treturn dictcol[x[1]]\n",
    "\n",
    "\n",
    "\n",
    "\n",
    "while game == True:\n",
    "\tmove = input(\"kimi no move: \")\n",
    "\t\n",
    "\t\n",
    "\tif counter%2 == 1:\n",
    "\t\tturn = \"X\"\n",
    "\t\t\n",
    "\tif counter%2 == 0:\n",
    "\t\tturn = \"O\"\n",
    "\t\n",
    "\t\n",
    "\n",
    "\tif move not in validmoves:\n",
    "\t\tprint(\"The board isn't big enough for that, try again xD\")\n",
    "\t\tprint(board)\n",
    "\t\t\n",
    "\telse:\n",
    "\t\t\tif move in Xmoves or move in Omoves:\n",
    "\t\t\t\tprint(\"Mama mo invalid lmao, try again\")\n",
    "\t\t\t\tprint(board)\n",
    "\t\t\tif move not in Xmoves + Omoves:\t\n",
    "\t\t\t\tboard[func1(move), func2(move)] = turn\n",
    "\t\t\t\t\n",
    "\t\t\t\tif counter%2 == 1:\n",
    "\t\t\t\t\tXmoves.append(move)\n",
    "\t\t\t\t\tfor i in winningmoves:\n",
    "\t\t\t\t\t\tcheck = all(item in Xmoves for item in i)\n",
    "\t\t\t\t\t\t\n",
    "\t\t\t\t\t\tif check is True:\n",
    "\t\t\t\t\t\t\tprint(\"Nanalo X, edi wow, kingina sml, pakyu. The game has ended\")\n",
    "\t\t\t\t\t\t\tprint(board)\n",
    "\t\t\t\t\t\t\tgame = False\n",
    "\t\t\t\t\tprint(board)\n",
    "\t\t\t\t\t\n",
    "\t\t\t\t\t\t\n",
    "\t\t\t\t\t\t\n",
    "\t\t\t\tif counter%2 == 0:\n",
    "\t\t\t\t\tOmoves.append(move)\n",
    "\t\t\t\t\tfor i in winningmoves:\n",
    "\t\t\t\t\t\tcheck = all(item in Omoves for item in i)\n",
    "\t\t\t\t\t\tif check is True:\n",
    "\t\t\t\t\t\t\tprint(\"You won O! edi wow, kingina sml, pakyu. The game has ended\")\n",
    "\t\t\t\t\t\t\tprint(board)\n",
    "\t\t\t\t\t\t\tgame = False\n",
    "\t\t\t\t\tprint(board)\n",
    "\t\t\t\t\n",
    "\t\t\t\tcounter = counter + 1"
   ]
  }
 ],
 "metadata": {
  "kernelspec": {
   "display_name": "Python 3 (ipykernel)",
   "language": "python",
   "name": "python3"
  },
  "language_info": {
   "codemirror_mode": {
    "name": "ipython",
    "version": 3
   },
   "file_extension": ".py",
   "mimetype": "text/x-python",
   "name": "python",
   "nbconvert_exporter": "python",
   "pygments_lexer": "ipython3",
   "version": "3.9.7"
  }
 },
 "nbformat": 4,
 "nbformat_minor": 5
}
