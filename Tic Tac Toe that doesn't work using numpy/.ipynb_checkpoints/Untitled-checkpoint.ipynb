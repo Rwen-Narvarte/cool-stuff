{
 "cells": [
  {
   "cell_type": "code",
   "execution_count": 1,
   "id": "1b835b9d",
   "metadata": {},
   "outputs": [
    {
     "name": "stdout",
     "output_type": "stream",
     "text": [
      "[['_' '_' '_']\n",
      " ['_' '_' '_']\n",
      " ['_' '_' '_']]\n",
      "kimi no move: a1\n",
      "[['X' '_' '_']\n",
      " ['_' '_' '_']\n",
      " ['_' '_' '_']]\n",
      "kimi no move: a1\n",
      "Mama mo invalid lmao, try again\n",
      "[['X' '_' '_']\n",
      " ['_' '_' '_']\n",
      " ['_' '_' '_']]\n"
     ]
    },
    {
     "ename": "KeyboardInterrupt",
     "evalue": "Interrupted by user",
     "output_type": "error",
     "traceback": [
      "\u001b[1;31m---------------------------------------------------------------------------\u001b[0m",
      "\u001b[1;31mKeyboardInterrupt\u001b[0m                         Traceback (most recent call last)",
      "\u001b[1;32m~\\AppData\\Local\\Temp/ipykernel_5492/3007630048.py\u001b[0m in \u001b[0;36m<module>\u001b[1;34m\u001b[0m\n\u001b[0;32m     28\u001b[0m \u001b[1;33m\u001b[0m\u001b[0m\n\u001b[0;32m     29\u001b[0m \u001b[1;32mwhile\u001b[0m \u001b[0mgame\u001b[0m \u001b[1;33m==\u001b[0m \u001b[1;32mTrue\u001b[0m\u001b[1;33m:\u001b[0m\u001b[1;33m\u001b[0m\u001b[1;33m\u001b[0m\u001b[0m\n\u001b[1;32m---> 30\u001b[1;33m         \u001b[0mmove\u001b[0m \u001b[1;33m=\u001b[0m \u001b[0minput\u001b[0m\u001b[1;33m(\u001b[0m\u001b[1;34m\"kimi no move: \"\u001b[0m\u001b[1;33m)\u001b[0m\u001b[1;33m\u001b[0m\u001b[1;33m\u001b[0m\u001b[0m\n\u001b[0m\u001b[0;32m     31\u001b[0m \u001b[1;33m\u001b[0m\u001b[0m\n\u001b[0;32m     32\u001b[0m \u001b[1;33m\u001b[0m\u001b[0m\n",
      "\u001b[1;32m~\\anaconda3\\lib\\site-packages\\ipykernel\\kernelbase.py\u001b[0m in \u001b[0;36mraw_input\u001b[1;34m(self, prompt)\u001b[0m\n\u001b[0;32m   1004\u001b[0m                 \u001b[1;34m\"raw_input was called, but this frontend does not support input requests.\"\u001b[0m\u001b[1;33m\u001b[0m\u001b[1;33m\u001b[0m\u001b[0m\n\u001b[0;32m   1005\u001b[0m             )\n\u001b[1;32m-> 1006\u001b[1;33m         return self._input_request(\n\u001b[0m\u001b[0;32m   1007\u001b[0m             \u001b[0mstr\u001b[0m\u001b[1;33m(\u001b[0m\u001b[0mprompt\u001b[0m\u001b[1;33m)\u001b[0m\u001b[1;33m,\u001b[0m\u001b[1;33m\u001b[0m\u001b[1;33m\u001b[0m\u001b[0m\n\u001b[0;32m   1008\u001b[0m             \u001b[0mself\u001b[0m\u001b[1;33m.\u001b[0m\u001b[0m_parent_ident\u001b[0m\u001b[1;33m[\u001b[0m\u001b[1;34m\"shell\"\u001b[0m\u001b[1;33m]\u001b[0m\u001b[1;33m,\u001b[0m\u001b[1;33m\u001b[0m\u001b[1;33m\u001b[0m\u001b[0m\n",
      "\u001b[1;32m~\\anaconda3\\lib\\site-packages\\ipykernel\\kernelbase.py\u001b[0m in \u001b[0;36m_input_request\u001b[1;34m(self, prompt, ident, parent, password)\u001b[0m\n\u001b[0;32m   1049\u001b[0m             \u001b[1;32mexcept\u001b[0m \u001b[0mKeyboardInterrupt\u001b[0m\u001b[1;33m:\u001b[0m\u001b[1;33m\u001b[0m\u001b[1;33m\u001b[0m\u001b[0m\n\u001b[0;32m   1050\u001b[0m                 \u001b[1;31m# re-raise KeyboardInterrupt, to truncate traceback\u001b[0m\u001b[1;33m\u001b[0m\u001b[1;33m\u001b[0m\u001b[0m\n\u001b[1;32m-> 1051\u001b[1;33m                 \u001b[1;32mraise\u001b[0m \u001b[0mKeyboardInterrupt\u001b[0m\u001b[1;33m(\u001b[0m\u001b[1;34m\"Interrupted by user\"\u001b[0m\u001b[1;33m)\u001b[0m \u001b[1;32mfrom\u001b[0m \u001b[1;32mNone\u001b[0m\u001b[1;33m\u001b[0m\u001b[1;33m\u001b[0m\u001b[0m\n\u001b[0m\u001b[0;32m   1052\u001b[0m             \u001b[1;32mexcept\u001b[0m \u001b[0mException\u001b[0m\u001b[1;33m:\u001b[0m\u001b[1;33m\u001b[0m\u001b[1;33m\u001b[0m\u001b[0m\n\u001b[0;32m   1053\u001b[0m                 \u001b[0mself\u001b[0m\u001b[1;33m.\u001b[0m\u001b[0mlog\u001b[0m\u001b[1;33m.\u001b[0m\u001b[0mwarning\u001b[0m\u001b[1;33m(\u001b[0m\u001b[1;34m\"Invalid Message:\"\u001b[0m\u001b[1;33m,\u001b[0m \u001b[0mexc_info\u001b[0m\u001b[1;33m=\u001b[0m\u001b[1;32mTrue\u001b[0m\u001b[1;33m)\u001b[0m\u001b[1;33m\u001b[0m\u001b[1;33m\u001b[0m\u001b[0m\n",
      "\u001b[1;31mKeyboardInterrupt\u001b[0m: Interrupted by user"
     ]
    }
   ],
   "source": [
    "import numpy as np\n",
    "import pandas as pd\n",
    "\n",
    "board = np.array ( [[0,0,0],[0,0,0],[0,0,0]])\n",
    "board = board.astype(str)\n",
    "board[:] = \"_\"\n",
    "print(board)\n",
    "\n",
    "counter = 1\n",
    "game = True\n",
    "\n",
    "\n",
    "dictrow = {'a':0,'b':1,'c':2}\n",
    "dictcol = {'1':0,'2':1,'3':2}\n",
    "\n",
    "def func1(x):\n",
    "\treturn dictrow[x[0]]\n",
    "\t\n",
    "def func2(x):\n",
    "\treturn dictcol[x[1]]\n",
    "\n",
    "Xmoves = []\n",
    "Omoves = []\n",
    "movelist = []\n",
    "validmoves = ['a1','a2','a3','b1','b2','b3','c1','c2','c3']\n",
    "winningmoves = [['a1','a2','a3'],['b1','b2','b3'],['c1','c2','c3'],['a1','b1','c1'],['a2','b2','c2'],['a3','b3','c3'],['a1','b2','c3'],['a3','b2','c1']]\n",
    "\n",
    "\n",
    "while game == True:\n",
    "\tmove = input(\"kimi no move: \")\n",
    "\t\n",
    "\t\n",
    "\tif counter%2 == 1:\n",
    "\t\tturn = \"X\"\n",
    "\t\t\n",
    "\tif counter%2 == 0:\n",
    "\t\tturn = \"O\"\n",
    "\t\n",
    "\t\n",
    "\n",
    "\tif move not in validmoves:\n",
    "\t\tprint(\"The board isn't big enough for that, try again xD\")\n",
    "\t\tprint(board)\n",
    "\t\t\n",
    "\telse:\n",
    "\t\t\tif move in Xmoves or move in Omoves:\n",
    "\t\t\t\tprint(\"Mama mo invalid lmao, try again\")\n",
    "\t\t\t\tprint(board)\n",
    "\t\t\tif move not in Xmoves + Omoves:\t\n",
    "\t\t\t\tboard[func1(move), func2(move)] = turn\n",
    "\t\t\t\t\n",
    "\t\t\t\tif counter%2 == 1:\n",
    "\t\t\t\t\tXmoves.append(move)\n",
    "\t\t\t\t\tfor i in winningmoves:\n",
    "\t\t\t\t\t\tcheck = all(item in Xmoves for item in i)\n",
    "\t\t\t\t\t\t\n",
    "\t\t\t\t\t\tif check is True:\n",
    "\t\t\t\t\t\t\tprint(\"Nanalo X, edi wow, kingina sml, pakyu. The game has ended\")\n",
    "\t\t\t\t\t\t\tprint(board)\n",
    "\t\t\t\t\t\t\tgame = False\n",
    "\t\t\t\t\tprint(board)\n",
    "\t\t\t\t\t\n",
    "\t\t\t\t\t\t\n",
    "\t\t\t\t\t\t\n",
    "\t\t\t\tif counter%2 == 0:\n",
    "\t\t\t\t\tOmoves.append(move)\n",
    "\t\t\t\t\tfor i in winningmoves:\n",
    "\t\t\t\t\t\tcheck = all(item in Omoves for item in i)\n",
    "\t\t\t\t\t\tif check is True:\n",
    "\t\t\t\t\t\t\tprint(\"You won O! edi wow, kingina sml, pakyu. The game has ended\")\n",
    "\t\t\t\t\t\t\tprint(board)\n",
    "\t\t\t\t\t\t\tgame = False\n",
    "\t\t\t\t\tprint(board)\n",
    "\t\t\t\t\n",
    "\t\t\t\tcounter = counter + 1"
   ]
  },
  {
   "cell_type": "code",
   "execution_count": null,
   "id": "2868d865",
   "metadata": {},
   "outputs": [],
   "source": []
  }
 ],
 "metadata": {
  "kernelspec": {
   "display_name": "Python 3 (ipykernel)",
   "language": "python",
   "name": "python3"
  },
  "language_info": {
   "codemirror_mode": {
    "name": "ipython",
    "version": 3
   },
   "file_extension": ".py",
   "mimetype": "text/x-python",
   "name": "python",
   "nbconvert_exporter": "python",
   "pygments_lexer": "ipython3",
   "version": "3.9.7"
  }
 },
 "nbformat": 4,
 "nbformat_minor": 5
}
