{
 "cells": [
  {
   "cell_type": "markdown",
   "id": "bdd8db06",
   "metadata": {},
   "source": [
    "# Tic Tac Toe but with numpy and it's stupid bc who makes tic tac toe with numpy?"
   ]
  },
  {
   "cell_type": "markdown",
   "id": "cb45326d",
   "metadata": {},
   "source": [
    "## What is this project?"
   ]
  },
  {
   "cell_type": "markdown",
   "id": "5e54f1cd",
   "metadata": {},
   "source": [
    "The title of this stupid project says it all, it's a **tic tac toe** made in **`Python`** using the **`numpy`** package. The notebook contains the code along with the rationale on how this project was made.\n",
    "\n",
    "To play the game, if you are using Jupyter notebook, simply select the `restart and run all cells` option which will run the program and prompt you to a pop-up requiring you to input your move \"Kimi no move\". To select which cell you would want to place your move, simply type the row letter and collumn number (i.e. `a1` , `b3` , `c2`, `a2`)\n",
    "\n",
    "Below is the whole notebook, enjoy. And btw, how do I make everything look like minecraft text?\n",
    "\n"
   ]
  },
  {
   "cell_type": "markdown",
   "id": "f605cb77",
   "metadata": {},
   "source": [
    "### Importing Libraries\n"
   ]
  },
  {
   "cell_type": "code",
   "execution_count": 1,
   "id": "6b7b00c5",
   "metadata": {},
   "outputs": [],
   "source": [
    "#1.1 Importing necessary library, the numpy library, we only use numpy in this house.\n",
    "import numpy as np\n"
   ]
  },
  {
   "cell_type": "markdown",
   "id": "eda69025",
   "metadata": {},
   "source": [
    "### The Board and it's Environment"
   ]
  },
  {
   "cell_type": "code",
   "execution_count": 2,
   "id": "85ce3719",
   "metadata": {},
   "outputs": [],
   "source": [
    "#2.1 Creating the Board\n",
    "board = np.array ( [[0,0,0],[0,0,0],[0,0,0]])\n",
    "board = board.astype(str)\n",
    "board[:] = \"_\"\n",
    "\n",
    "\n",
    "#2.2 Creating a dictionary which will serve as our translation between board and python itteration\n",
    "dictrow = {'a':0,'b':1,'c':2}\n",
    "dictcol = {'1':0,'2':1,'3':2}\n",
    "\n",
    "\n",
    "#2.3 Making a list of valid moves and winning moves\n",
    "validmoves = ['a1','a2','a3','b1','b2','b3','c1','c2','c3']\n",
    "winningmoves = [['a1','a2','a3'],['b1','b2','b3'],['c1','c2','c3'],['a1','b1','c1'],['a2','b2','c2'],['a3','b3','c3'],['a1','b2','c3'],['a3','b2','c1']]\n",
    "\n",
    "\n",
    "#2.4 Empty lists to store the player's moves during the game.\n",
    "Xmoves = []\n",
    "Omoves = []\n",
    "movelist = []\n",
    "\n",
    "\n",
    "#2.5 Functions to translate the moves using the dictionary on `2.2` \n",
    "def func1(x):\n",
    "\treturn dictrow[x[0]]\n",
    "def func2(x):\n",
    "\treturn dictcol[x[1]]\n",
    "\n",
    "\n",
    "#2.6 Move counter\n",
    "counter = 1\n",
    "\n",
    "\n",
    "#2.7 Game state\n",
    "game = True\n",
    "\n"
   ]
  },
  {
   "cell_type": "markdown",
   "id": "2bcd740f",
   "metadata": {},
   "source": [
    "### The Game Itself"
   ]
  },
  {
   "cell_type": "code",
   "execution_count": 3,
   "id": "a303ffb6",
   "metadata": {},
   "outputs": [
    {
     "name": "stdout",
     "output_type": "stream",
     "text": [
      "[['_' '_' '_']\n",
      " ['_' '_' '_']\n",
      " ['_' '_' '_']]\n",
      "kimi no move: a1\n",
      "[['X' '_' '_']\n",
      " ['_' '_' '_']\n",
      " ['_' '_' '_']]\n",
      "kimi no move: b1\n",
      "[['X' '_' '_']\n",
      " ['O' '_' '_']\n",
      " ['_' '_' '_']]\n",
      "kimi no move: a2\n",
      "[['X' 'X' '_']\n",
      " ['O' '_' '_']\n",
      " ['_' '_' '_']]\n",
      "kimi no move: b2\n",
      "[['X' 'X' '_']\n",
      " ['O' 'O' '_']\n",
      " ['_' '_' '_']]\n",
      "kimi no move: c1\n",
      "[['X' 'X' '_']\n",
      " ['O' 'O' '_']\n",
      " ['X' '_' '_']]\n",
      "kimi no move: b3\n",
      "You won O! edi wow, kingina sml, pakyu. The game has ended\n",
      "[['X' 'X' '_']\n",
      " ['O' 'O' 'O']\n",
      " ['X' '_' '_']]\n",
      "[['X' 'X' '_']\n",
      " ['O' 'O' 'O']\n",
      " ['X' '_' '_']]\n"
     ]
    }
   ],
   "source": [
    "#3.1 Print the board\n",
    "print(board)\n",
    "\n",
    "\n",
    "#3.1 The game state to keep it going\n",
    "while game == True:\n",
    "    \n",
    "\n",
    "#3.2 Move input\n",
    "\tmove = input(\"kimi no move: \")\n",
    "\tif counter%2 == 1:\n",
    "\t\tturn = \"X\"\n",
    "\tif counter%2 == 0:\n",
    "\t\tturn = \"O\"\n",
    "\n",
    "\n",
    "#3.3 Error proofing by denying out of bound moves     \n",
    "\tif move not in validmoves:\n",
    "\t\tprint(\"The board isn't big enough for that, try again xD\")\n",
    "\t\tprint(board)\n",
    "\n",
    "\n",
    "#3.4 Error proofing by denying invalid or overwriting moves        \n",
    "\telse:\n",
    "\t\tif move in Xmoves or move in Omoves:\n",
    "\t\t\tprint(\"Mama mo invalid lmao, try again\")\n",
    "\t\t\tprint(board)\n",
    "            \n",
    "\n",
    "#3.5 Writing a valid move.\n",
    "\t\tif move not in Xmoves + Omoves:\n",
    "\t\t\tboard[func1(move), func2(move)] = turn\n",
    "        \n",
    "\n",
    "#3.6 Append move in X and then check if X's moves contains winning combinations.        \n",
    "\t\t\tif counter%2 == 1:\n",
    "\t\t\t\tXmoves.append(move)\n",
    "\t\t\t\tfor i in winningmoves:\n",
    "\t\t\t\t\tcheck = all(item in Xmoves for item in i)\n",
    "\t\t\t\t\tif check is True:\n",
    "\t\t\t\t\t\tprint(\"Nanalo X, edi wow, kingina sml, pakyu. The game has ended\")\n",
    "\t\t\t\t\t\tprint(board)\n",
    "\t\t\t\t\t\tgame = False #Game ends\n",
    "\t\t\t\t\t\tbreak\n",
    "\t\t\t\tprint(board)\n",
    "\n",
    "                \n",
    "#3.7 Append move in O and then check if O's moves contains winning combinations.                \n",
    "\t\t\tif counter%2 == 0:\n",
    "\t\t\t\tOmoves.append(move)\n",
    "\t\t\t\tfor i in winningmoves:\n",
    "\t\t\t\t\tcheck = all(item in Omoves for item in i)\n",
    "\t\t\t\t\tif check is True:\n",
    "\t\t\t\t\t\tprint(\"You won O! edi wow, kingina sml, pakyu. The game has ended\")\n",
    "\t\t\t\t\t\tprint(board)\n",
    "\t\t\t\t\t\tgame = False #Game ends\n",
    "\t\t\t\t\t\tbreak\n",
    "\t\t\t\tprint(board)\n",
    "\n",
    "\n",
    "#3.8 Add 1 to move counter                \n",
    "\t\t\tcounter = counter + 1"
   ]
  },
  {
   "cell_type": "code",
   "execution_count": null,
   "id": "48a278fb",
   "metadata": {},
   "outputs": [],
   "source": []
  },
  {
   "cell_type": "code",
   "execution_count": null,
   "id": "f16698b1",
   "metadata": {},
   "outputs": [],
   "source": []
  }
 ],
 "metadata": {
  "kernelspec": {
   "display_name": "Python 3 (ipykernel)",
   "language": "python",
   "name": "python3"
  },
  "language_info": {
   "codemirror_mode": {
    "name": "ipython",
    "version": 3
   },
   "file_extension": ".py",
   "mimetype": "text/x-python",
   "name": "python",
   "nbconvert_exporter": "python",
   "pygments_lexer": "ipython3",
   "version": "3.9.7"
  }
 },
 "nbformat": 4,
 "nbformat_minor": 5
}
